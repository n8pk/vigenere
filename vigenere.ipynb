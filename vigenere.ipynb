{
 "cells": [
  {
   "cell_type": "code",
   "execution_count": 1,
   "metadata": {},
   "outputs": [],
   "source": [
    "import string\n",
    "from collections import deque"
   ]
  },
  {
   "cell_type": "code",
   "execution_count": 2,
   "metadata": {},
   "outputs": [],
   "source": [
    "class VigenereCipher:\n",
    "    \n",
    "    def __init__(self):\n",
    "        \n",
    "        self.characters = deque(string.printable)        \n",
    "        \n",
    "        \n",
    "    def encrypt(self, plaintext, code):\n",
    "        \"\"\"Takes in a plaintext string and returns ciphertext\"\"\"\n",
    "        \n",
    "        self.rotation_sequence = [self.characters.index(char) for char in code]\n",
    "        \n",
    "        indices = [self.characters.index(letter) for letter in plaintext]\n",
    "        \n",
    "        new_indices = []\n",
    "        for idx, num in enumerate(indices):\n",
    "            codex = self.rotation_sequence[idx%len(self.rotation_sequence)]\n",
    "            new_indices.append(num - codex)\n",
    "        \n",
    "        new_letters = [self.characters[i] for i in new_indices]\n",
    "        \n",
    "        return ''.join(new_letters)\n",
    "        \n",
    "    \n",
    "    def decrypt(self, ciphertext, code):\n",
    "        \"\"\"Takes in a ciphertext string and returns plaintext\"\"\"\n",
    "        \n",
    "        self.rotation_sequence = [self.characters.index(char) for char in code]\n",
    "\n",
    "        indices = [self.characters.index(letter) for letter in ciphertext]\n",
    "\n",
    "        new_indices = []\n",
    "        for idx, num in enumerate(indices):\n",
    "            codex = self.rotation_sequence[idx%len(self.rotation_sequence)]\n",
    "            new_indices.append(num + codex)\n",
    "        \n",
    "        new_letters = []\n",
    "        for i in new_indices:\n",
    "            check = len(self.characters)\n",
    "            if i < check:\n",
    "                new_letters.append(self.characters[i])\n",
    "            else:\n",
    "                new_letters.append(self.characters[i-check])\n",
    "        \n",
    "        return ''.join(new_letters)"
   ]
  },
  {
   "cell_type": "code",
   "execution_count": 3,
   "metadata": {},
   "outputs": [],
   "source": [
    "cipher = VigenereCipher()"
   ]
  },
  {
   "cell_type": "code",
   "execution_count": 9,
   "metadata": {},
   "outputs": [
    {
     "data": {
      "text/plain": [
       "'c0b]\\x0b;\\x0b0[\\x0b\\x0b\\x0c= \\\\c\\x0b\\n_\\\\'"
      ]
     },
     "execution_count": 9,
     "metadata": {},
     "output_type": "execute_result"
    }
   ],
   "source": [
    "code = cipher.encrypt('super secret message', 'guest')\n",
    "code"
   ]
  },
  {
   "cell_type": "code",
   "execution_count": 11,
   "metadata": {},
   "outputs": [
    {
     "data": {
      "text/plain": [
       "'super secret message'"
      ]
     },
     "execution_count": 11,
     "metadata": {},
     "output_type": "execute_result"
    }
   ],
   "source": [
    "cipher.decrypt(code, 'guest')"
   ]
  },
  {
   "cell_type": "code",
   "execution_count": null,
   "metadata": {},
   "outputs": [],
   "source": []
  }
 ],
 "metadata": {
  "kernelspec": {
   "display_name": "Python 3",
   "language": "python",
   "name": "python3"
  },
  "language_info": {
   "codemirror_mode": {
    "name": "ipython",
    "version": 3
   },
   "file_extension": ".py",
   "mimetype": "text/x-python",
   "name": "python",
   "nbconvert_exporter": "python",
   "pygments_lexer": "ipython3",
   "version": "3.6.4"
  }
 },
 "nbformat": 4,
 "nbformat_minor": 2
}
